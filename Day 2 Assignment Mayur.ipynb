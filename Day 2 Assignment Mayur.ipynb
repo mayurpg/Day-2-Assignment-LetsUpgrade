{
 "cells": [
  {
   "cell_type": "code",
   "execution_count": 1,
   "metadata": {
    "colab": {
     "base_uri": "https://localhost:8080/",
     "height": 34
    },
    "colab_type": "code",
    "executionInfo": {
     "elapsed": 3878,
     "status": "ok",
     "timestamp": 1591109561962,
     "user": {
      "displayName": "Shriram Kashid",
      "photoUrl": "https://lh3.googleusercontent.com/a-/AOh14GgaLYAs6m7oAYlHCTcIjhRxSG5Q6WbViSUu1yCTMA=s64",
      "userId": "17123583759410972479"
     },
     "user_tz": -330
    },
    "id": "k4tOubkXbJhK",
    "outputId": "1881388c-93c4-469f-aa65-58ba78d238eb"
   },
   "outputs": [
    {
     "name": "stdout",
     "output_type": "stream",
     "text": [
      "['Mayur', 1, 2, 3, 4, 5, 22.5, 2]\n"
     ]
    }
   ],
   "source": [
    "# function of list\n",
    " \n",
    "list1 = [\"Mayur\",1,2,3,4,5,22.5,2]\n",
    "print(list1)"
   ]
  },
  {
   "cell_type": "code",
   "execution_count": 2,
   "metadata": {
    "colab": {
     "base_uri": "https://localhost:8080/",
     "height": 34
    },
    "colab_type": "code",
    "executionInfo": {
     "elapsed": 3859,
     "status": "ok",
     "timestamp": 1591109561969,
     "user": {
      "displayName": "Shriram Kashid",
      "photoUrl": "https://lh3.googleusercontent.com/a-/AOh14GgaLYAs6m7oAYlHCTcIjhRxSG5Q6WbViSUu1yCTMA=s64",
      "userId": "17123583759410972479"
     },
     "user_tz": -330
    },
    "id": "j3JtEz-6bUH8",
    "outputId": "a9d05cd4-e8ea-459a-e461-328661b47955"
   },
   "outputs": [
    {
     "data": {
      "text/plain": [
       "['Mayur', 1, 2, 3, 4, 5, 22.5, 2, 13]"
      ]
     },
     "execution_count": 2,
     "metadata": {},
     "output_type": "execute_result"
    }
   ],
   "source": [
    "list1.append(13)\n",
    "list1"
   ]
  },
  {
   "cell_type": "code",
   "execution_count": 0,
   "metadata": {
    "colab": {
     "base_uri": "https://localhost:8080/",
     "height": 34
    },
    "colab_type": "code",
    "executionInfo": {
     "elapsed": 2350,
     "status": "ok",
     "timestamp": 1591109602884,
     "user": {
      "displayName": "Shriram Kashid",
      "photoUrl": "https://lh3.googleusercontent.com/a-/AOh14GgaLYAs6m7oAYlHCTcIjhRxSG5Q6WbViSUu1yCTMA=s64",
      "userId": "17123583759410972479"
     },
     "user_tz": -330
    },
    "id": "fUux1ygBf-SE",
    "outputId": "f190c251-33de-406f-8c4b-031ff81d10c7"
   },
   "outputs": [
    {
     "name": "stdout",
     "output_type": "stream",
     "text": [
      "[]\n"
     ]
    }
   ],
   "source": [
    "list1.clear()\n",
    "print(list1)"
   ]
  },
  {
   "cell_type": "code",
   "execution_count": 3,
   "metadata": {
    "colab": {
     "base_uri": "https://localhost:8080/",
     "height": 34
    },
    "colab_type": "code",
    "executionInfo": {
     "elapsed": 1122,
     "status": "ok",
     "timestamp": 1591109912790,
     "user": {
      "displayName": "Shriram Kashid",
      "photoUrl": "https://lh3.googleusercontent.com/a-/AOh14GgaLYAs6m7oAYlHCTcIjhRxSG5Q6WbViSUu1yCTMA=s64",
      "userId": "17123583759410972479"
     },
     "user_tz": -330
    },
    "id": "5xyVU1PphcS_",
    "outputId": "e10a89a2-7670-4cb8-d969-beac23e664f0"
   },
   "outputs": [
    {
     "name": "stdout",
     "output_type": "stream",
     "text": [
      "['Mayur', 44.5, 10, 55, 56, 'Sumit', 57, 10]\n"
     ]
    }
   ],
   "source": [
    "list2=[\"Mayur\",44.5,10,55,56,\"Sumit\",57,10]\n",
    "print(list2)"
   ]
  },
  {
   "cell_type": "code",
   "execution_count": 4,
   "metadata": {
    "colab": {
     "base_uri": "https://localhost:8080/",
     "height": 34
    },
    "colab_type": "code",
    "executionInfo": {
     "elapsed": 1535,
     "status": "ok",
     "timestamp": 1591109915165,
     "user": {
      "displayName": "Shriram Kashid",
      "photoUrl": "https://lh3.googleusercontent.com/a-/AOh14GgaLYAs6m7oAYlHCTcIjhRxSG5Q6WbViSUu1yCTMA=s64",
      "userId": "17123583759410972479"
     },
     "user_tz": -330
    },
    "id": "FH8DcBtHhjQt",
    "outputId": "39ee8f10-8ba4-4917-c228-a8f39e86eb78"
   },
   "outputs": [
    {
     "name": "stdout",
     "output_type": "stream",
     "text": [
      "['Mayur', 44.5, 10, 55, 56, 'Sumit', 57, 10]\n"
     ]
    }
   ],
   "source": [
    "list2.copy()\n",
    "print(list2)"
   ]
  },
  {
   "cell_type": "code",
   "execution_count": 5,
   "metadata": {
    "colab": {
     "base_uri": "https://localhost:8080/",
     "height": 34
    },
    "colab_type": "code",
    "executionInfo": {
     "elapsed": 1097,
     "status": "ok",
     "timestamp": 1591109920777,
     "user": {
      "displayName": "Shriram Kashid",
      "photoUrl": "https://lh3.googleusercontent.com/a-/AOh14GgaLYAs6m7oAYlHCTcIjhRxSG5Q6WbViSUu1yCTMA=s64",
      "userId": "17123583759410972479"
     },
     "user_tz": -330
    },
    "id": "QI5XQhHnhpUu",
    "outputId": "eca3e13c-946f-442a-a7ff-ba2f130d8fdf"
   },
   "outputs": [
    {
     "data": {
      "text/plain": [
       "1"
      ]
     },
     "execution_count": 5,
     "metadata": {},
     "output_type": "execute_result"
    }
   ],
   "source": [
    "list2.count(\"Mayur\")"
   ]
  },
  {
   "cell_type": "code",
   "execution_count": 0,
   "metadata": {
    "colab": {
     "base_uri": "https://localhost:8080/",
     "height": 34
    },
    "colab_type": "code",
    "executionInfo": {
     "elapsed": 1634,
     "status": "ok",
     "timestamp": 1591109922303,
     "user": {
      "displayName": "Shriram Kashid",
      "photoUrl": "https://lh3.googleusercontent.com/a-/AOh14GgaLYAs6m7oAYlHCTcIjhRxSG5Q6WbViSUu1yCTMA=s64",
      "userId": "17123583759410972479"
     },
     "user_tz": -330
    },
    "id": "NSpNQ7SFhvX6",
    "outputId": "b61c84d2-3fa0-434b-a1a1-600e15657832"
   },
   "outputs": [
    {
     "data": {
      "text/plain": [
       "2"
      ]
     },
     "execution_count": 19,
     "metadata": {
      "tags": []
     },
     "output_type": "execute_result"
    }
   ],
   "source": [
    "list2.count(10)"
   ]
  },
  {
   "cell_type": "code",
   "execution_count": 6,
   "metadata": {
    "colab": {
     "base_uri": "https://localhost:8080/",
     "height": 34
    },
    "colab_type": "code",
    "executionInfo": {
     "elapsed": 1513,
     "status": "ok",
     "timestamp": 1591109924577,
     "user": {
      "displayName": "Shriram Kashid",
      "photoUrl": "https://lh3.googleusercontent.com/a-/AOh14GgaLYAs6m7oAYlHCTcIjhRxSG5Q6WbViSUu1yCTMA=s64",
      "userId": "17123583759410972479"
     },
     "user_tz": -330
    },
    "id": "-NkpnI93h7t9",
    "outputId": "6b058f7a-a64d-4031-e31c-cea4ab58351e"
   },
   "outputs": [
    {
     "name": "stdout",
     "output_type": "stream",
     "text": [
      "['Mayur', 44.5, 10, 'Gaikwad', 55, 56, 'Sumit', 57, 10]\n"
     ]
    }
   ],
   "source": [
    "list2.insert(3,\"Gaikwad\")\n",
    "print(list2)"
   ]
  },
  {
   "cell_type": "code",
   "execution_count": 7,
   "metadata": {
    "colab": {
     "base_uri": "https://localhost:8080/",
     "height": 54
    },
    "colab_type": "code",
    "executionInfo": {
     "elapsed": 1327,
     "status": "ok",
     "timestamp": 1591109927093,
     "user": {
      "displayName": "Shriram Kashid",
      "photoUrl": "https://lh3.googleusercontent.com/a-/AOh14GgaLYAs6m7oAYlHCTcIjhRxSG5Q6WbViSUu1yCTMA=s64",
      "userId": "17123583759410972479"
     },
     "user_tz": -330
    },
    "id": "Cq0iJq3hiJ2c",
    "outputId": "d3b1063e-e650-4938-db90-acfd2708f0f9"
   },
   "outputs": [
    {
     "name": "stdout",
     "output_type": "stream",
     "text": [
      "['Mayur', 44.5, 10, 'Gaikwad', 55, 56, 'Sumit', 57, 10, 'Mayur', 'Payal', 1, 10, 25]\n"
     ]
    }
   ],
   "source": [
    "list2.extend([\"Mayur\",\"Payal\",1,10,25])\n",
    "print(list2)"
   ]
  },
  {
   "cell_type": "code",
   "execution_count": 8,
   "metadata": {
    "colab": {
     "base_uri": "https://localhost:8080/",
     "height": 34
    },
    "colab_type": "code",
    "executionInfo": {
     "elapsed": 1170,
     "status": "ok",
     "timestamp": 1591109951476,
     "user": {
      "displayName": "Shriram Kashid",
      "photoUrl": "https://lh3.googleusercontent.com/a-/AOh14GgaLYAs6m7oAYlHCTcIjhRxSG5Q6WbViSUu1yCTMA=s64",
      "userId": "17123583759410972479"
     },
     "user_tz": -330
    },
    "id": "Pz3CoVJWidKT",
    "outputId": "04630836-46a7-403e-a671-c9d8fd2e6b3d"
   },
   "outputs": [
    {
     "name": "stdout",
     "output_type": "stream",
     "text": [
      "['Mayur', 44.5, 10, 'Gaikwad', 55, 56, 'Sumit', 57, 10, 'Mayur', 'Payal', 1, 10]\n"
     ]
    }
   ],
   "source": [
    "list2.pop()\n",
    "print(list2)"
   ]
  },
  {
   "cell_type": "code",
   "execution_count": 9,
   "metadata": {
    "colab": {
     "base_uri": "https://localhost:8080/",
     "height": 34
    },
    "colab_type": "code",
    "executionInfo": {
     "elapsed": 1202,
     "status": "ok",
     "timestamp": 1591109962731,
     "user": {
      "displayName": "Shriram Kashid",
      "photoUrl": "https://lh3.googleusercontent.com/a-/AOh14GgaLYAs6m7oAYlHCTcIjhRxSG5Q6WbViSUu1yCTMA=s64",
      "userId": "17123583759410972479"
     },
     "user_tz": -330
    },
    "id": "J8xDm1wbixsD",
    "outputId": "8ad317c8-09a8-46f4-cb7f-65c0cd1f3832"
   },
   "outputs": [
    {
     "name": "stdout",
     "output_type": "stream",
     "text": [
      "['Mayur', 44.5, 10, 'Gaikwad', 55, 56, 'Sumit', 57, 10, 'Mayur', 'Payal', 1]\n"
     ]
    }
   ],
   "source": [
    "list2.pop()\n",
    "print(list2)"
   ]
  },
  {
   "cell_type": "code",
   "execution_count": 10,
   "metadata": {
    "colab": {
     "base_uri": "https://localhost:8080/",
     "height": 34
    },
    "colab_type": "code",
    "executionInfo": {
     "elapsed": 1435,
     "status": "ok",
     "timestamp": 1591109983827,
     "user": {
      "displayName": "Shriram Kashid",
      "photoUrl": "https://lh3.googleusercontent.com/a-/AOh14GgaLYAs6m7oAYlHCTcIjhRxSG5Q6WbViSUu1yCTMA=s64",
      "userId": "17123583759410972479"
     },
     "user_tz": -330
    },
    "id": "RzuTKfVyi0bs",
    "outputId": "cbd03bf5-509f-4afe-ada9-d43b61356299"
   },
   "outputs": [
    {
     "name": "stdout",
     "output_type": "stream",
     "text": [
      "['Mayur', 44.5, 10, 'Gaikwad', 55, 56, 'Sumit', 10, 'Mayur', 'Payal', 1]\n"
     ]
    }
   ],
   "source": [
    "list2.pop(7)\n",
    "print(list2)"
   ]
  },
  {
   "cell_type": "code",
   "execution_count": 11,
   "metadata": {
    "colab": {
     "base_uri": "https://localhost:8080/",
     "height": 34
    },
    "colab_type": "code",
    "executionInfo": {
     "elapsed": 1077,
     "status": "ok",
     "timestamp": 1591110035644,
     "user": {
      "displayName": "Shriram Kashid",
      "photoUrl": "https://lh3.googleusercontent.com/a-/AOh14GgaLYAs6m7oAYlHCTcIjhRxSG5Q6WbViSUu1yCTMA=s64",
      "userId": "17123583759410972479"
     },
     "user_tz": -330
    },
    "id": "1gSOZWF5i5h0",
    "outputId": "c3d1d4ff-446b-4e80-9201-838a25277efd"
   },
   "outputs": [
    {
     "name": "stdout",
     "output_type": "stream",
     "text": [
      "['Mayur', 44.5, 10, 'Gaikwad', 55, 'Sumit', 10, 'Mayur', 'Payal', 1]\n"
     ]
    }
   ],
   "source": [
    "list2.remove(56)\n",
    "print(list2)"
   ]
  },
  {
   "cell_type": "code",
   "execution_count": 12,
   "metadata": {
    "colab": {
     "base_uri": "https://localhost:8080/",
     "height": 34
    },
    "colab_type": "code",
    "executionInfo": {
     "elapsed": 1529,
     "status": "ok",
     "timestamp": 1591110052465,
     "user": {
      "displayName": "Shriram Kashid",
      "photoUrl": "https://lh3.googleusercontent.com/a-/AOh14GgaLYAs6m7oAYlHCTcIjhRxSG5Q6WbViSUu1yCTMA=s64",
      "userId": "17123583759410972479"
     },
     "user_tz": -330
    },
    "id": "uOEy3mdbjGQm",
    "outputId": "66ffda16-2c34-401a-f24b-0e97dd08a2de"
   },
   "outputs": [
    {
     "name": "stdout",
     "output_type": "stream",
     "text": [
      "[1, 'Payal', 'Mayur', 10, 'Sumit', 55, 'Gaikwad', 10, 44.5, 'Mayur']\n"
     ]
    }
   ],
   "source": [
    "list2.reverse()\n",
    "print(list2)"
   ]
  },
  {
   "cell_type": "code",
   "execution_count": 13,
   "metadata": {
    "colab": {
     "base_uri": "https://localhost:8080/",
     "height": 34
    },
    "colab_type": "code",
    "executionInfo": {
     "elapsed": 5599,
     "status": "ok",
     "timestamp": 1591110145441,
     "user": {
      "displayName": "Shriram Kashid",
      "photoUrl": "https://lh3.googleusercontent.com/a-/AOh14GgaLYAs6m7oAYlHCTcIjhRxSG5Q6WbViSUu1yCTMA=s64",
      "userId": "17123583759410972479"
     },
     "user_tz": -330
    },
    "id": "QiW1z_zJjKQh",
    "outputId": "406ae7c8-1341-463b-8b5b-d4a4339b76a0"
   },
   "outputs": [
    {
     "name": "stdout",
     "output_type": "stream",
     "text": [
      "[78, 15, 45, 58, 10, 1, 2, 3, 2]\n"
     ]
    }
   ],
   "source": [
    "list3= [78,15,45,58,10,1,2,3,2]\n",
    "print(list3)"
   ]
  },
  {
   "cell_type": "code",
   "execution_count": 14,
   "metadata": {
    "colab": {
     "base_uri": "https://localhost:8080/",
     "height": 34
    },
    "colab_type": "code",
    "executionInfo": {
     "elapsed": 3229,
     "status": "ok",
     "timestamp": 1591110149913,
     "user": {
      "displayName": "Shriram Kashid",
      "photoUrl": "https://lh3.googleusercontent.com/a-/AOh14GgaLYAs6m7oAYlHCTcIjhRxSG5Q6WbViSUu1yCTMA=s64",
      "userId": "17123583759410972479"
     },
     "user_tz": -330
    },
    "id": "DUdd3Ip6jULm",
    "outputId": "7d457f78-17d0-45be-a8ad-fae3d67938e6"
   },
   "outputs": [
    {
     "name": "stdout",
     "output_type": "stream",
     "text": [
      "[1, 2, 2, 3, 10, 15, 45, 58, 78]\n"
     ]
    }
   ],
   "source": [
    "list3.sort()\n",
    "print(list3)"
   ]
  },
  {
   "cell_type": "code",
   "execution_count": 0,
   "metadata": {
    "colab": {},
    "colab_type": "code",
    "id": "DFDFA1QTjZUH"
   },
   "outputs": [],
   "source": [
    "# Dictionary"
   ]
  },
  {
   "cell_type": "code",
   "execution_count": 15,
   "metadata": {
    "colab": {
     "base_uri": "https://localhost:8080/",
     "height": 34
    },
    "colab_type": "code",
    "executionInfo": {
     "elapsed": 2518,
     "status": "ok",
     "timestamp": 1591110245770,
     "user": {
      "displayName": "Shriram Kashid",
      "photoUrl": "https://lh3.googleusercontent.com/a-/AOh14GgaLYAs6m7oAYlHCTcIjhRxSG5Q6WbViSUu1yCTMA=s64",
      "userId": "17123583759410972479"
     },
     "user_tz": -330
    },
    "id": "c-zl-OcJjrja",
    "outputId": "fcfc65bb-b9b6-4076-b1da-0edacd4d1e3f"
   },
   "outputs": [
    {
     "name": "stdout",
     "output_type": "stream",
     "text": [
      "{'name': 'Mayur', 'Age': 21, 'fav_game': 'cricket'}\n"
     ]
    }
   ],
   "source": [
    "my_info={\"name\":\"Mayur\",\"Age\":21,\"fav_game\":\"cricket\"}\n",
    "print(my_info)"
   ]
  },
  {
   "cell_type": "code",
   "execution_count": 16,
   "metadata": {
    "colab": {
     "base_uri": "https://localhost:8080/",
     "height": 34
    },
    "colab_type": "code",
    "executionInfo": {
     "elapsed": 1460,
     "status": "ok",
     "timestamp": 1591110289894,
     "user": {
      "displayName": "Shriram Kashid",
      "photoUrl": "https://lh3.googleusercontent.com/a-/AOh14GgaLYAs6m7oAYlHCTcIjhRxSG5Q6WbViSUu1yCTMA=s64",
      "userId": "17123583759410972479"
     },
     "user_tz": -330
    },
    "id": "vPQ9yQkqj4nB",
    "outputId": "edf4ff01-6b00-4026-a26e-8b4f91cb2879"
   },
   "outputs": [
    {
     "name": "stdout",
     "output_type": "stream",
     "text": [
      "{}\n"
     ]
    }
   ],
   "source": [
    "my_info.clear()\n",
    "print(my_info)"
   ]
  },
  {
   "cell_type": "code",
   "execution_count": 17,
   "metadata": {
    "colab": {
     "base_uri": "https://localhost:8080/",
     "height": 34
    },
    "colab_type": "code",
    "executionInfo": {
     "elapsed": 6084,
     "status": "ok",
     "timestamp": 1591110350911,
     "user": {
      "displayName": "Shriram Kashid",
      "photoUrl": "https://lh3.googleusercontent.com/a-/AOh14GgaLYAs6m7oAYlHCTcIjhRxSG5Q6WbViSUu1yCTMA=s64",
      "userId": "17123583759410972479"
     },
     "user_tz": -330
    },
    "id": "NQBiIJHekEPw",
    "outputId": "63549268-3c86-4740-9ded-3ac28fb5b914"
   },
   "outputs": [
    {
     "data": {
      "text/plain": [
       "'Mayur'"
      ]
     },
     "execution_count": 17,
     "metadata": {},
     "output_type": "execute_result"
    }
   ],
   "source": [
    "my_info={\"name\":\"Mayur\",\"Age\":21,\"fav_game\":\"cricket\"}\n",
    "my_info.get(\"name\")"
   ]
  },
  {
   "cell_type": "code",
   "execution_count": 18,
   "metadata": {
    "colab": {
     "base_uri": "https://localhost:8080/",
     "height": 34
    },
    "colab_type": "code",
    "executionInfo": {
     "elapsed": 3140,
     "status": "ok",
     "timestamp": 1591110407058,
     "user": {
      "displayName": "Shriram Kashid",
      "photoUrl": "https://lh3.googleusercontent.com/a-/AOh14GgaLYAs6m7oAYlHCTcIjhRxSG5Q6WbViSUu1yCTMA=s64",
      "userId": "17123583759410972479"
     },
     "user_tz": -330
    },
    "id": "Jxz5lAUwkQ0F",
    "outputId": "6ea9d37e-a742-4eea-bb28-f70b0e000205"
   },
   "outputs": [
    {
     "data": {
      "text/plain": [
       "'Mayur'"
      ]
     },
     "execution_count": 18,
     "metadata": {},
     "output_type": "execute_result"
    }
   ],
   "source": [
    "my_info[\"name\"]"
   ]
  },
  {
   "cell_type": "code",
   "execution_count": 19,
   "metadata": {
    "colab": {},
    "colab_type": "code",
    "id": "mLs2Eb6bkcsu"
   },
   "outputs": [],
   "source": [
    "my_info.get(\"Mayur\")"
   ]
  },
  {
   "cell_type": "code",
   "execution_count": 20,
   "metadata": {
    "colab": {
     "base_uri": "https://localhost:8080/",
     "height": 34
    },
    "colab_type": "code",
    "executionInfo": {
     "elapsed": 8163,
     "status": "ok",
     "timestamp": 1591110504079,
     "user": {
      "displayName": "Shriram Kashid",
      "photoUrl": "https://lh3.googleusercontent.com/a-/AOh14GgaLYAs6m7oAYlHCTcIjhRxSG5Q6WbViSUu1yCTMA=s64",
      "userId": "17123583759410972479"
     },
     "user_tz": -330
    },
    "id": "QPUhebTjknGU",
    "outputId": "03b467ca-cd73-4885-ca14-22adde7a0b2c"
   },
   "outputs": [
    {
     "name": "stdout",
     "output_type": "stream",
     "text": [
      "{'name': 'Mayur', 'fav_game': 'cricket'}\n"
     ]
    }
   ],
   "source": [
    "my_info.pop(\"Age\")\n",
    "print(my_info)"
   ]
  },
  {
   "cell_type": "code",
   "execution_count": 21,
   "metadata": {
    "colab": {
     "base_uri": "https://localhost:8080/",
     "height": 34
    },
    "colab_type": "code",
    "executionInfo": {
     "elapsed": 3249,
     "status": "ok",
     "timestamp": 1591110527558,
     "user": {
      "displayName": "Shriram Kashid",
      "photoUrl": "https://lh3.googleusercontent.com/a-/AOh14GgaLYAs6m7oAYlHCTcIjhRxSG5Q6WbViSUu1yCTMA=s64",
      "userId": "17123583759410972479"
     },
     "user_tz": -330
    },
    "id": "Haj9acX5kx85",
    "outputId": "09bcc949-e3ef-49d8-fe9e-faa8f442a5ae"
   },
   "outputs": [
    {
     "data": {
      "text/plain": [
       "('fav_game', 'cricket')"
      ]
     },
     "execution_count": 21,
     "metadata": {},
     "output_type": "execute_result"
    }
   ],
   "source": [
    "my_info.popitem()"
   ]
  },
  {
   "cell_type": "code",
   "execution_count": 22,
   "metadata": {
    "colab": {
     "base_uri": "https://localhost:8080/",
     "height": 34
    },
    "colab_type": "code",
    "executionInfo": {
     "elapsed": 1253,
     "status": "ok",
     "timestamp": 1591110749643,
     "user": {
      "displayName": "Shriram Kashid",
      "photoUrl": "https://lh3.googleusercontent.com/a-/AOh14GgaLYAs6m7oAYlHCTcIjhRxSG5Q6WbViSUu1yCTMA=s64",
      "userId": "17123583759410972479"
     },
     "user_tz": -330
    },
    "id": "qHDe4hrrk91E",
    "outputId": "7ab60b87-2d8b-4a63-8500-58c7422a4b95"
   },
   "outputs": [
    {
     "data": {
      "text/plain": [
       "{'1': 30}"
      ]
     },
     "execution_count": 22,
     "metadata": {},
     "output_type": "execute_result"
    }
   ],
   "source": [
    "my_info={\"name\":\"Mayur\",\"Age\":21,\"fav_game\":\"cricket\"}\n",
    "my_info.fromkeys('1',30)"
   ]
  },
  {
   "cell_type": "code",
   "execution_count": 23,
   "metadata": {
    "colab": {
     "base_uri": "https://localhost:8080/",
     "height": 34
    },
    "colab_type": "code",
    "executionInfo": {
     "elapsed": 1582,
     "status": "ok",
     "timestamp": 1591110778257,
     "user": {
      "displayName": "Shriram Kashid",
      "photoUrl": "https://lh3.googleusercontent.com/a-/AOh14GgaLYAs6m7oAYlHCTcIjhRxSG5Q6WbViSUu1yCTMA=s64",
      "userId": "17123583759410972479"
     },
     "user_tz": -330
    },
    "id": "voWQ27Tkl0hT",
    "outputId": "4f49189c-0c10-436a-f911-1224adbb5abe"
   },
   "outputs": [
    {
     "data": {
      "text/plain": [
       "dict_keys(['name', 'Age', 'fav_game'])"
      ]
     },
     "execution_count": 23,
     "metadata": {},
     "output_type": "execute_result"
    }
   ],
   "source": [
    "my_info.keys()"
   ]
  },
  {
   "cell_type": "code",
   "execution_count": 24,
   "metadata": {
    "colab": {
     "base_uri": "https://localhost:8080/",
     "height": 34
    },
    "colab_type": "code",
    "executionInfo": {
     "elapsed": 1269,
     "status": "ok",
     "timestamp": 1591110814337,
     "user": {
      "displayName": "Shriram Kashid",
      "photoUrl": "https://lh3.googleusercontent.com/a-/AOh14GgaLYAs6m7oAYlHCTcIjhRxSG5Q6WbViSUu1yCTMA=s64",
      "userId": "17123583759410972479"
     },
     "user_tz": -330
    },
    "id": "FMCJi8MRl7cE",
    "outputId": "ac05f9cf-d2a2-4a09-e94c-0f6add49c848"
   },
   "outputs": [
    {
     "data": {
      "text/plain": [
       "dict_values(['Mayur', 21, 'cricket'])"
      ]
     },
     "execution_count": 24,
     "metadata": {},
     "output_type": "execute_result"
    }
   ],
   "source": [
    "my_info.values()"
   ]
  },
  {
   "cell_type": "code",
   "execution_count": 25,
   "metadata": {
    "colab": {
     "base_uri": "https://localhost:8080/",
     "height": 34
    },
    "colab_type": "code",
    "executionInfo": {
     "elapsed": 2520,
     "status": "ok",
     "timestamp": 1591110841348,
     "user": {
      "displayName": "Shriram Kashid",
      "photoUrl": "https://lh3.googleusercontent.com/a-/AOh14GgaLYAs6m7oAYlHCTcIjhRxSG5Q6WbViSUu1yCTMA=s64",
      "userId": "17123583759410972479"
     },
     "user_tz": -330
    },
    "id": "jiRepTQhl-zR",
    "outputId": "b01f8e95-e232-477e-eae2-8068d9bdeca5"
   },
   "outputs": [
    {
     "data": {
      "text/plain": [
       "dict_items([('name', 'Mayur'), ('Age', 21), ('fav_game', 'cricket')])"
      ]
     },
     "execution_count": 25,
     "metadata": {},
     "output_type": "execute_result"
    }
   ],
   "source": [
    "my_info.items()"
   ]
  },
  {
   "cell_type": "code",
   "execution_count": 26,
   "metadata": {
    "colab": {
     "base_uri": "https://localhost:8080/",
     "height": 54
    },
    "colab_type": "code",
    "executionInfo": {
     "elapsed": 2104,
     "status": "ok",
     "timestamp": 1591110981063,
     "user": {
      "displayName": "Shriram Kashid",
      "photoUrl": "https://lh3.googleusercontent.com/a-/AOh14GgaLYAs6m7oAYlHCTcIjhRxSG5Q6WbViSUu1yCTMA=s64",
      "userId": "17123583759410972479"
     },
     "user_tz": -330
    },
    "id": "O23wTeIpmHxs",
    "outputId": "1b0ed962-b064-48e2-b9de-7520a17e0266"
   },
   "outputs": [
    {
     "name": "stdout",
     "output_type": "stream",
     "text": [
      "{'name': 'Mayur', 'Age': 21, 'fav_game': 'cricket', 'frd_name': 'Payal', 'city_name': 'Nashik'}\n"
     ]
    }
   ],
   "source": [
    "my_info.update({'frd_name':'Payal','city_name':'Nashik'})\n",
    "print(my_info)"
   ]
  },
  {
   "cell_type": "code",
   "execution_count": 27,
   "metadata": {
    "colab": {
     "base_uri": "https://localhost:8080/",
     "height": 34
    },
    "colab_type": "code",
    "executionInfo": {
     "elapsed": 1120,
     "status": "ok",
     "timestamp": 1591112053066,
     "user": {
      "displayName": "Shriram Kashid",
      "photoUrl": "https://lh3.googleusercontent.com/a-/AOh14GgaLYAs6m7oAYlHCTcIjhRxSG5Q6WbViSUu1yCTMA=s64",
      "userId": "17123583759410972479"
     },
     "user_tz": -330
    },
    "id": "DCKPvcvHmstI",
    "outputId": "b3fd0868-384f-4ebb-edd6-c320aed73927"
   },
   "outputs": [
    {
     "data": {
      "text/plain": [
       "'Payal'"
      ]
     },
     "execution_count": 27,
     "metadata": {},
     "output_type": "execute_result"
    }
   ],
   "source": [
    "my_info.setdefault(\"frd_name\")"
   ]
  },
  {
   "cell_type": "code",
   "execution_count": 0,
   "metadata": {
    "colab": {},
    "colab_type": "code",
    "id": "DVe6Wjo_qyyD"
   },
   "outputs": [],
   "source": [
    "# Set"
   ]
  },
  {
   "cell_type": "code",
   "execution_count": 28,
   "metadata": {
    "colab": {
     "base_uri": "https://localhost:8080/",
     "height": 34
    },
    "colab_type": "code",
    "executionInfo": {
     "elapsed": 1206,
     "status": "ok",
     "timestamp": 1591112327982,
     "user": {
      "displayName": "Shriram Kashid",
      "photoUrl": "https://lh3.googleusercontent.com/a-/AOh14GgaLYAs6m7oAYlHCTcIjhRxSG5Q6WbViSUu1yCTMA=s64",
      "userId": "17123583759410972479"
     },
     "user_tz": -330
    },
    "id": "Osoc4BhQrPsl",
    "outputId": "925aa114-d940-4109-cba6-36e254c4cc89"
   },
   "outputs": [
    {
     "name": "stdout",
     "output_type": "stream",
     "text": [
      "{'r', 'p', 'q'}\n"
     ]
    }
   ],
   "source": [
    "my_set = {\"p\",\"q\",\"r\"}\n",
    "print(my_set)"
   ]
  },
  {
   "cell_type": "code",
   "execution_count": 29,
   "metadata": {
    "colab": {
     "base_uri": "https://localhost:8080/",
     "height": 34
    },
    "colab_type": "code",
    "executionInfo": {
     "elapsed": 1119,
     "status": "ok",
     "timestamp": 1591112347641,
     "user": {
      "displayName": "Shriram Kashid",
      "photoUrl": "https://lh3.googleusercontent.com/a-/AOh14GgaLYAs6m7oAYlHCTcIjhRxSG5Q6WbViSUu1yCTMA=s64",
      "userId": "17123583759410972479"
     },
     "user_tz": -330
    },
    "id": "xwn1fhRbr14g",
    "outputId": "385f0f61-529c-41df-ba07-766c92af78b2"
   },
   "outputs": [
    {
     "name": "stdout",
     "output_type": "stream",
     "text": [
      "{'s', 'r', 'p', 'q'}\n"
     ]
    }
   ],
   "source": [
    "my_set.add('s')\n",
    "print(my_set)"
   ]
  },
  {
   "cell_type": "code",
   "execution_count": 30,
   "metadata": {
    "colab": {
     "base_uri": "https://localhost:8080/",
     "height": 34
    },
    "colab_type": "code",
    "executionInfo": {
     "elapsed": 1064,
     "status": "ok",
     "timestamp": 1591112504201,
     "user": {
      "displayName": "Shriram Kashid",
      "photoUrl": "https://lh3.googleusercontent.com/a-/AOh14GgaLYAs6m7oAYlHCTcIjhRxSG5Q6WbViSUu1yCTMA=s64",
      "userId": "17123583759410972479"
     },
     "user_tz": -330
    },
    "id": "S6yr2xwGr6tL",
    "outputId": "fdef7e93-ddbb-427a-8422-cf1ef4912814"
   },
   "outputs": [
    {
     "name": "stdout",
     "output_type": "stream",
     "text": [
      "set()\n"
     ]
    }
   ],
   "source": [
    "my_set.clear()\n",
    "print(my_set)"
   ]
  },
  {
   "cell_type": "code",
   "execution_count": 31,
   "metadata": {
    "colab": {
     "base_uri": "https://localhost:8080/",
     "height": 34
    },
    "colab_type": "code",
    "executionInfo": {
     "elapsed": 2145,
     "status": "ok",
     "timestamp": 1591112518456,
     "user": {
      "displayName": "Shriram Kashid",
      "photoUrl": "https://lh3.googleusercontent.com/a-/AOh14GgaLYAs6m7oAYlHCTcIjhRxSG5Q6WbViSUu1yCTMA=s64",
      "userId": "17123583759410972479"
     },
     "user_tz": -330
    },
    "id": "Cm8jj2_9sg7a",
    "outputId": "32ecc4e1-afb7-49ae-d219-b9cc0d74b079"
   },
   "outputs": [
    {
     "name": "stdout",
     "output_type": "stream",
     "text": [
      "{'r', 'p', 'q'}\n"
     ]
    }
   ],
   "source": [
    "my_set = {\"p\",\"q\",\"r\"}\n",
    "print(my_set)"
   ]
  },
  {
   "cell_type": "code",
   "execution_count": 32,
   "metadata": {
    "colab": {
     "base_uri": "https://localhost:8080/",
     "height": 34
    },
    "colab_type": "code",
    "executionInfo": {
     "elapsed": 1239,
     "status": "ok",
     "timestamp": 1591112529094,
     "user": {
      "displayName": "Shriram Kashid",
      "photoUrl": "https://lh3.googleusercontent.com/a-/AOh14GgaLYAs6m7oAYlHCTcIjhRxSG5Q6WbViSUu1yCTMA=s64",
      "userId": "17123583759410972479"
     },
     "user_tz": -330
    },
    "id": "F6zxAO3nskKL",
    "outputId": "59054d91-95eb-419e-d6a6-c5cf3f2b05ad"
   },
   "outputs": [
    {
     "name": "stdout",
     "output_type": "stream",
     "text": [
      "{'r', 'p', 'q'}\n"
     ]
    }
   ],
   "source": [
    "my_set.copy()\n",
    "print(my_set)"
   ]
  },
  {
   "cell_type": "code",
   "execution_count": 33,
   "metadata": {
    "colab": {
     "base_uri": "https://localhost:8080/",
     "height": 34
    },
    "colab_type": "code",
    "executionInfo": {
     "elapsed": 1210,
     "status": "ok",
     "timestamp": 1591112541382,
     "user": {
      "displayName": "Shriram Kashid",
      "photoUrl": "https://lh3.googleusercontent.com/a-/AOh14GgaLYAs6m7oAYlHCTcIjhRxSG5Q6WbViSUu1yCTMA=s64",
      "userId": "17123583759410972479"
     },
     "user_tz": -330
    },
    "id": "GjZb-hCJsm-F",
    "outputId": "7a46b64d-ef82-4dc5-f4b7-2afe814f0b0c"
   },
   "outputs": [
    {
     "data": {
      "text/plain": [
       "{'Latur', 'mumbai', 'pune', 'satara', 'solapur'}"
      ]
     },
     "execution_count": 33,
     "metadata": {},
     "output_type": "execute_result"
    }
   ],
   "source": [
    "a= {\"pune\",\"satara\",\"mumbai\"}\n",
    "b= {\"mumbai\",\"Latur\",\"solapur\"}\n",
    "\n",
    "a.union(b)"
   ]
  },
  {
   "cell_type": "code",
   "execution_count": 34,
   "metadata": {
    "colab": {
     "base_uri": "https://localhost:8080/",
     "height": 34
    },
    "colab_type": "code",
    "executionInfo": {
     "elapsed": 1156,
     "status": "ok",
     "timestamp": 1591112573739,
     "user": {
      "displayName": "Shriram Kashid",
      "photoUrl": "https://lh3.googleusercontent.com/a-/AOh14GgaLYAs6m7oAYlHCTcIjhRxSG5Q6WbViSUu1yCTMA=s64",
      "userId": "17123583759410972479"
     },
     "user_tz": -330
    },
    "id": "Oid9kiHvsp-L",
    "outputId": "80a69e09-eb4c-47fb-87a2-3d8339585283"
   },
   "outputs": [
    {
     "data": {
      "text/plain": [
       "{'mumbai'}"
      ]
     },
     "execution_count": 34,
     "metadata": {},
     "output_type": "execute_result"
    }
   ],
   "source": [
    "a= {\"pune\",\"satara\",\"mumbai\"}\n",
    "b= {\"mumbai\",\"Latur\",\"solapur\"}\n",
    "\n",
    "a.intersection(b)"
   ]
  },
  {
   "cell_type": "code",
   "execution_count": 35,
   "metadata": {
    "colab": {
     "base_uri": "https://localhost:8080/",
     "height": 34
    },
    "colab_type": "code",
    "executionInfo": {
     "elapsed": 1247,
     "status": "ok",
     "timestamp": 1591112667981,
     "user": {
      "displayName": "Shriram Kashid",
      "photoUrl": "https://lh3.googleusercontent.com/a-/AOh14GgaLYAs6m7oAYlHCTcIjhRxSG5Q6WbViSUu1yCTMA=s64",
      "userId": "17123583759410972479"
     },
     "user_tz": -330
    },
    "id": "SzwZ7RJpsx5U",
    "outputId": "bd392426-ef24-4994-8d2a-0bfa2048bc23"
   },
   "outputs": [
    {
     "data": {
      "text/plain": [
       "{'pune', 'satara'}"
      ]
     },
     "execution_count": 35,
     "metadata": {},
     "output_type": "execute_result"
    }
   ],
   "source": [
    "a= {\"pune\",\"satara\",\"mumbai\"}\n",
    "b= {\"mumbai\",\"Latur\",\"solapur\"}\n",
    "\n",
    "a.difference(b)"
   ]
  },
  {
   "cell_type": "code",
   "execution_count": 36,
   "metadata": {
    "colab": {
     "base_uri": "https://localhost:8080/",
     "height": 34
    },
    "colab_type": "code",
    "executionInfo": {
     "elapsed": 1195,
     "status": "ok",
     "timestamp": 1591112703585,
     "user": {
      "displayName": "Shriram Kashid",
      "photoUrl": "https://lh3.googleusercontent.com/a-/AOh14GgaLYAs6m7oAYlHCTcIjhRxSG5Q6WbViSUu1yCTMA=s64",
      "userId": "17123583759410972479"
     },
     "user_tz": -330
    },
    "id": "emTrZIcvtI4P",
    "outputId": "03567f96-a684-4070-d502-a58734966da7"
   },
   "outputs": [
    {
     "data": {
      "text/plain": [
       "{'Latur', 'solapur'}"
      ]
     },
     "execution_count": 36,
     "metadata": {},
     "output_type": "execute_result"
    }
   ],
   "source": [
    "a= {\"pune\",\"satara\",\"mumbai\"}\n",
    "b= {\"mumbai\",\"Latur\",\"solapur\"}\n",
    "\n",
    "b.difference(a)"
   ]
  },
  {
   "cell_type": "code",
   "execution_count": 37,
   "metadata": {
    "colab": {
     "base_uri": "https://localhost:8080/",
     "height": 34
    },
    "colab_type": "code",
    "executionInfo": {
     "elapsed": 1334,
     "status": "ok",
     "timestamp": 1591112723448,
     "user": {
      "displayName": "Shriram Kashid",
      "photoUrl": "https://lh3.googleusercontent.com/a-/AOh14GgaLYAs6m7oAYlHCTcIjhRxSG5Q6WbViSUu1yCTMA=s64",
      "userId": "17123583759410972479"
     },
     "user_tz": -330
    },
    "id": "7M9RJwnKtRlX",
    "outputId": "99c802c2-0b4e-4ae1-bdc2-7feb5bfd9dca"
   },
   "outputs": [
    {
     "data": {
      "text/plain": [
       "{'Latur', 'pune', 'satara', 'solapur'}"
      ]
     },
     "execution_count": 37,
     "metadata": {},
     "output_type": "execute_result"
    }
   ],
   "source": [
    "a= {\"pune\",\"satara\",\"mumbai\"}\n",
    "b= {\"mumbai\",\"Latur\",\"solapur\"}\n",
    "\n",
    "a.symmetric_difference(b)"
   ]
  },
  {
   "cell_type": "code",
   "execution_count": 38,
   "metadata": {
    "colab": {
     "base_uri": "https://localhost:8080/",
     "height": 34
    },
    "colab_type": "code",
    "executionInfo": {
     "elapsed": 1187,
     "status": "ok",
     "timestamp": 1591112765887,
     "user": {
      "displayName": "Shriram Kashid",
      "photoUrl": "https://lh3.googleusercontent.com/a-/AOh14GgaLYAs6m7oAYlHCTcIjhRxSG5Q6WbViSUu1yCTMA=s64",
      "userId": "17123583759410972479"
     },
     "user_tz": -330
    },
    "id": "VKdAXAm0tWZu",
    "outputId": "ff04d317-9d23-4382-9077-5bb822e0fb1c"
   },
   "outputs": [
    {
     "data": {
      "text/plain": [
       "True"
      ]
     },
     "execution_count": 38,
     "metadata": {},
     "output_type": "execute_result"
    }
   ],
   "source": [
    "a={1,2,3}\n",
    "b={4,5,6}\n",
    "\n",
    "a.isdisjoint(b)"
   ]
  },
  {
   "cell_type": "code",
   "execution_count": 39,
   "metadata": {
    "colab": {
     "base_uri": "https://localhost:8080/",
     "height": 34
    },
    "colab_type": "code",
    "executionInfo": {
     "elapsed": 1307,
     "status": "ok",
     "timestamp": 1591112775472,
     "user": {
      "displayName": "Shriram Kashid",
      "photoUrl": "https://lh3.googleusercontent.com/a-/AOh14GgaLYAs6m7oAYlHCTcIjhRxSG5Q6WbViSUu1yCTMA=s64",
      "userId": "17123583759410972479"
     },
     "user_tz": -330
    },
    "id": "PBiD97y7tgzL",
    "outputId": "18c056a6-c588-4b9f-ff86-1913fbc713f1"
   },
   "outputs": [
    {
     "data": {
      "text/plain": [
       "False"
      ]
     },
     "execution_count": 39,
     "metadata": {},
     "output_type": "execute_result"
    }
   ],
   "source": [
    "a={1,2,3}\n",
    "b={4,2,6}\n",
    "\n",
    "a.isdisjoint(b)"
   ]
  },
  {
   "cell_type": "code",
   "execution_count": 0,
   "metadata": {
    "colab": {
     "base_uri": "https://localhost:8080/",
     "height": 34
    },
    "colab_type": "code",
    "executionInfo": {
     "elapsed": 2549,
     "status": "ok",
     "timestamp": 1591112876897,
     "user": {
      "displayName": "Shriram Kashid",
      "photoUrl": "https://lh3.googleusercontent.com/a-/AOh14GgaLYAs6m7oAYlHCTcIjhRxSG5Q6WbViSUu1yCTMA=s64",
      "userId": "17123583759410972479"
     },
     "user_tz": -330
    },
    "id": "nPb9tiWYtjG0",
    "outputId": "72265df6-3f90-452c-9fc6-925ba33931d4"
   },
   "outputs": [
    {
     "data": {
      "text/plain": [
       "False"
      ]
     },
     "execution_count": 63,
     "metadata": {
      "tags": []
     },
     "output_type": "execute_result"
    }
   ],
   "source": [
    "a={1,2,3}\n",
    "b={4,2,6,1,2}\n",
    "\n",
    "a.issubset(b)"
   ]
  },
  {
   "cell_type": "code",
   "execution_count": 40,
   "metadata": {
    "colab": {
     "base_uri": "https://localhost:8080/",
     "height": 34
    },
    "colab_type": "code",
    "executionInfo": {
     "elapsed": 5628,
     "status": "ok",
     "timestamp": 1591112891623,
     "user": {
      "displayName": "Shriram Kashid",
      "photoUrl": "https://lh3.googleusercontent.com/a-/AOh14GgaLYAs6m7oAYlHCTcIjhRxSG5Q6WbViSUu1yCTMA=s64",
      "userId": "17123583759410972479"
     },
     "user_tz": -330
    },
    "id": "X_rJGZHQt7kZ",
    "outputId": "be724e9c-4506-4857-cb62-1cd48853d665"
   },
   "outputs": [
    {
     "data": {
      "text/plain": [
       "True"
      ]
     },
     "execution_count": 40,
     "metadata": {},
     "output_type": "execute_result"
    }
   ],
   "source": [
    "a={1,2,3}\n",
    "b={4,2,6,1,3}\n",
    "\n",
    "a.issubset(b)"
   ]
  },
  {
   "cell_type": "code",
   "execution_count": 41,
   "metadata": {
    "colab": {
     "base_uri": "https://localhost:8080/",
     "height": 34
    },
    "colab_type": "code",
    "executionInfo": {
     "elapsed": 2395,
     "status": "ok",
     "timestamp": 1591112909398,
     "user": {
      "displayName": "Shriram Kashid",
      "photoUrl": "https://lh3.googleusercontent.com/a-/AOh14GgaLYAs6m7oAYlHCTcIjhRxSG5Q6WbViSUu1yCTMA=s64",
      "userId": "17123583759410972479"
     },
     "user_tz": -330
    },
    "id": "RkFNLbKmt-ab",
    "outputId": "b36ff241-fa01-497f-f9e8-a9b51620bafc"
   },
   "outputs": [
    {
     "data": {
      "text/plain": [
       "False"
      ]
     },
     "execution_count": 41,
     "metadata": {},
     "output_type": "execute_result"
    }
   ],
   "source": [
    "a={1,2,3}\n",
    "b={4,2,6,1,3}\n",
    "\n",
    "a.issuperset(b)"
   ]
  },
  {
   "cell_type": "code",
   "execution_count": 42,
   "metadata": {
    "colab": {
     "base_uri": "https://localhost:8080/",
     "height": 34
    },
    "colab_type": "code",
    "executionInfo": {
     "elapsed": 1855,
     "status": "ok",
     "timestamp": 1591112919265,
     "user": {
      "displayName": "Shriram Kashid",
      "photoUrl": "https://lh3.googleusercontent.com/a-/AOh14GgaLYAs6m7oAYlHCTcIjhRxSG5Q6WbViSUu1yCTMA=s64",
      "userId": "17123583759410972479"
     },
     "user_tz": -330
    },
    "id": "TWYWE0AsuDia",
    "outputId": "59fa4ca3-7c92-4327-8a6b-33fd1e74b527"
   },
   "outputs": [
    {
     "data": {
      "text/plain": [
       "True"
      ]
     },
     "execution_count": 42,
     "metadata": {},
     "output_type": "execute_result"
    }
   ],
   "source": [
    "a={4,2,6,1,3}\n",
    "b={1,2,3}\n",
    "\n",
    "a.issuperset(b)"
   ]
  },
  {
   "cell_type": "code",
   "execution_count": 43,
   "metadata": {
    "colab": {
     "base_uri": "https://localhost:8080/",
     "height": 34
    },
    "colab_type": "code",
    "executionInfo": {
     "elapsed": 1074,
     "status": "ok",
     "timestamp": 1591112956051,
     "user": {
      "displayName": "Shriram Kashid",
      "photoUrl": "https://lh3.googleusercontent.com/a-/AOh14GgaLYAs6m7oAYlHCTcIjhRxSG5Q6WbViSUu1yCTMA=s64",
      "userId": "17123583759410972479"
     },
     "user_tz": -330
    },
    "id": "0iwKeT-duGFE",
    "outputId": "a76b4679-65a6-45bd-877a-b78c7faca913"
   },
   "outputs": [
    {
     "data": {
      "text/plain": [
       "{1, 10, 5, 'Mayur', 'Payal'}"
      ]
     },
     "execution_count": 43,
     "metadata": {},
     "output_type": "execute_result"
    }
   ],
   "source": [
    "a={1,10,5}\n",
    "a.update([\"Mayur\",\"Payal\"])\n",
    "a"
   ]
  },
  {
   "cell_type": "code",
   "execution_count": 44,
   "metadata": {
    "colab": {
     "base_uri": "https://localhost:8080/",
     "height": 34
    },
    "colab_type": "code",
    "executionInfo": {
     "elapsed": 2158,
     "status": "ok",
     "timestamp": 1591113354137,
     "user": {
      "displayName": "Shriram Kashid",
      "photoUrl": "https://lh3.googleusercontent.com/a-/AOh14GgaLYAs6m7oAYlHCTcIjhRxSG5Q6WbViSUu1yCTMA=s64",
      "userId": "17123583759410972479"
     },
     "user_tz": -330
    },
    "id": "vxQgJt8TuPPx",
    "outputId": "05252b69-e8ab-4c75-abc9-c7e1f0a74e45"
   },
   "outputs": [
    {
     "name": "stdout",
     "output_type": "stream",
     "text": [
      "{'satara'}\n"
     ]
    }
   ],
   "source": [
    "a= {\"pune\",\"satara\",\"mumbai\"}\n",
    "b= {\"mumbai\",\"satara\",\"solapur\"}\n",
    "\n",
    "a.intersection_update([\"satara\",\"solapur\"])\n",
    "print(a)"
   ]
  },
  {
   "cell_type": "code",
   "execution_count": 45,
   "metadata": {
    "colab": {
     "base_uri": "https://localhost:8080/",
     "height": 34
    },
    "colab_type": "code",
    "executionInfo": {
     "elapsed": 2164,
     "status": "ok",
     "timestamp": 1591113539201,
     "user": {
      "displayName": "Shriram Kashid",
      "photoUrl": "https://lh3.googleusercontent.com/a-/AOh14GgaLYAs6m7oAYlHCTcIjhRxSG5Q6WbViSUu1yCTMA=s64",
      "userId": "17123583759410972479"
     },
     "user_tz": -330
    },
    "id": "eU-DolJyvv26",
    "outputId": "34f19d8e-a080-4a01-ec00-f5f1da5fb836"
   },
   "outputs": [
    {
     "name": "stdout",
     "output_type": "stream",
     "text": [
      "{'mumbai', 'pune'}\n"
     ]
    }
   ],
   "source": [
    "a= {\"pune\",\"latur\",\"mumbai\"}\n",
    "\n",
    "a.remove(\"latur\")\n",
    "print(a)"
   ]
  },
  {
   "cell_type": "code",
   "execution_count": 46,
   "metadata": {
    "colab": {
     "base_uri": "https://localhost:8080/",
     "height": 34
    },
    "colab_type": "code",
    "executionInfo": {
     "elapsed": 3875,
     "status": "ok",
     "timestamp": 1591113550665,
     "user": {
      "displayName": "Shriram Kashid",
      "photoUrl": "https://lh3.googleusercontent.com/a-/AOh14GgaLYAs6m7oAYlHCTcIjhRxSG5Q6WbViSUu1yCTMA=s64",
      "userId": "17123583759410972479"
     },
     "user_tz": -330
    },
    "id": "q-oKGyOswdVp",
    "outputId": "c8ce7d54-501d-4876-cbdd-8d71d5be03f9"
   },
   "outputs": [
    {
     "data": {
      "text/plain": [
       "{'mumbai'}"
      ]
     },
     "execution_count": 46,
     "metadata": {},
     "output_type": "execute_result"
    }
   ],
   "source": [
    "a.discard(\"pune\")\n",
    "a"
   ]
  },
  {
   "cell_type": "code",
   "execution_count": 47,
   "metadata": {
    "colab": {
     "base_uri": "https://localhost:8080/",
     "height": 34
    },
    "colab_type": "code",
    "executionInfo": {
     "elapsed": 2126,
     "status": "ok",
     "timestamp": 1591113561643,
     "user": {
      "displayName": "Shriram Kashid",
      "photoUrl": "https://lh3.googleusercontent.com/a-/AOh14GgaLYAs6m7oAYlHCTcIjhRxSG5Q6WbViSUu1yCTMA=s64",
      "userId": "17123583759410972479"
     },
     "user_tz": -330
    },
    "id": "xnoodqgWwfvN",
    "outputId": "61fa957a-4b03-4bdd-9c4a-824c561fdd97"
   },
   "outputs": [
    {
     "data": {
      "text/plain": [
       "'mumbai'"
      ]
     },
     "execution_count": 47,
     "metadata": {},
     "output_type": "execute_result"
    }
   ],
   "source": [
    "b= {\"mumbai\",\"satara\",\"solapur\"}\n",
    "b.pop()"
   ]
  },
  {
   "cell_type": "code",
   "execution_count": 0,
   "metadata": {
    "colab": {},
    "colab_type": "code",
    "id": "pABvRkwhwi2J"
   },
   "outputs": [],
   "source": [
    "#String"
   ]
  },
  {
   "cell_type": "code",
   "execution_count": 48,
   "metadata": {
    "colab": {
     "base_uri": "https://localhost:8080/",
     "height": 50
    },
    "colab_type": "code",
    "executionInfo": {
     "elapsed": 1258,
     "status": "ok",
     "timestamp": 1591113614536,
     "user": {
      "displayName": "Shriram Kashid",
      "photoUrl": "https://lh3.googleusercontent.com/a-/AOh14GgaLYAs6m7oAYlHCTcIjhRxSG5Q6WbViSUu1yCTMA=s64",
      "userId": "17123583759410972479"
     },
     "user_tz": -330
    },
    "id": "VBqLmmVCwmr9",
    "outputId": "91dfc506-1c76-4b51-b150-932820d0ebf5"
   },
   "outputs": [
    {
     "name": "stdout",
     "output_type": "stream",
     "text": [
      "<class 'str'>\n",
      "i love to Play Cricket\n"
     ]
    }
   ],
   "source": [
    "my_str = 'i love to Play Cricket'\n",
    "print(type(my_str))\n",
    "print(my_str)"
   ]
  },
  {
   "cell_type": "code",
   "execution_count": 49,
   "metadata": {
    "colab": {
     "base_uri": "https://localhost:8080/",
     "height": 34
    },
    "colab_type": "code",
    "executionInfo": {
     "elapsed": 1234,
     "status": "ok",
     "timestamp": 1591113627850,
     "user": {
      "displayName": "Shriram Kashid",
      "photoUrl": "https://lh3.googleusercontent.com/a-/AOh14GgaLYAs6m7oAYlHCTcIjhRxSG5Q6WbViSUu1yCTMA=s64",
      "userId": "17123583759410972479"
     },
     "user_tz": -330
    },
    "id": "_KEsrJjtwv9h",
    "outputId": "b8dc70f4-183b-410c-b619-dcb75f8ad3c6"
   },
   "outputs": [
    {
     "data": {
      "text/plain": [
       "'I love to play cricket'"
      ]
     },
     "execution_count": 49,
     "metadata": {},
     "output_type": "execute_result"
    }
   ],
   "source": [
    "my_str.capitalize()"
   ]
  },
  {
   "cell_type": "code",
   "execution_count": 50,
   "metadata": {
    "colab": {
     "base_uri": "https://localhost:8080/",
     "height": 34
    },
    "colab_type": "code",
    "executionInfo": {
     "elapsed": 1678,
     "status": "ok",
     "timestamp": 1591113698525,
     "user": {
      "displayName": "Shriram Kashid",
      "photoUrl": "https://lh3.googleusercontent.com/a-/AOh14GgaLYAs6m7oAYlHCTcIjhRxSG5Q6WbViSUu1yCTMA=s64",
      "userId": "17123583759410972479"
     },
     "user_tz": -330
    },
    "id": "EvsB-S9mwzOK",
    "outputId": "d6f3f38d-cc6a-4ced-cb2f-bf9475f800f7"
   },
   "outputs": [
    {
     "data": {
      "text/plain": [
       "'I LOVE TO PLAY CRICKET'"
      ]
     },
     "execution_count": 50,
     "metadata": {},
     "output_type": "execute_result"
    }
   ],
   "source": [
    "my_str.upper()"
   ]
  },
  {
   "cell_type": "code",
   "execution_count": 51,
   "metadata": {
    "colab": {
     "base_uri": "https://localhost:8080/",
     "height": 34
    },
    "colab_type": "code",
    "executionInfo": {
     "elapsed": 1665,
     "status": "ok",
     "timestamp": 1591113721679,
     "user": {
      "displayName": "Shriram Kashid",
      "photoUrl": "https://lh3.googleusercontent.com/a-/AOh14GgaLYAs6m7oAYlHCTcIjhRxSG5Q6WbViSUu1yCTMA=s64",
      "userId": "17123583759410972479"
     },
     "user_tz": -330
    },
    "id": "eBE05O5dw5r0",
    "outputId": "17d7079e-d98e-4125-fa57-d3817095aa02"
   },
   "outputs": [
    {
     "data": {
      "text/plain": [
       "'i love to play cricket'"
      ]
     },
     "execution_count": 51,
     "metadata": {},
     "output_type": "execute_result"
    }
   ],
   "source": [
    "my_str.lower()"
   ]
  },
  {
   "cell_type": "code",
   "execution_count": 52,
   "metadata": {
    "colab": {
     "base_uri": "https://localhost:8080/",
     "height": 34
    },
    "colab_type": "code",
    "executionInfo": {
     "elapsed": 2148,
     "status": "ok",
     "timestamp": 1591114162764,
     "user": {
      "displayName": "Shriram Kashid",
      "photoUrl": "https://lh3.googleusercontent.com/a-/AOh14GgaLYAs6m7oAYlHCTcIjhRxSG5Q6WbViSUu1yCTMA=s64",
      "userId": "17123583759410972479"
     },
     "user_tz": -330
    },
    "id": "Ia2F4W_0xJ7F",
    "outputId": "0284c5ce-4dfa-44eb-cd37-a8138bf8c31b"
   },
   "outputs": [
    {
     "data": {
      "text/plain": [
       "'I LOVE TO pLAY cRICKET'"
      ]
     },
     "execution_count": 52,
     "metadata": {},
     "output_type": "execute_result"
    }
   ],
   "source": [
    "my_str.swapcase()"
   ]
  },
  {
   "cell_type": "code",
   "execution_count": 53,
   "metadata": {
    "colab": {
     "base_uri": "https://localhost:8080/",
     "height": 34
    },
    "colab_type": "code",
    "executionInfo": {
     "elapsed": 1995,
     "status": "ok",
     "timestamp": 1591114202473,
     "user": {
      "displayName": "Shriram Kashid",
      "photoUrl": "https://lh3.googleusercontent.com/a-/AOh14GgaLYAs6m7oAYlHCTcIjhRxSG5Q6WbViSUu1yCTMA=s64",
      "userId": "17123583759410972479"
     },
     "user_tz": -330
    },
    "id": "2AGScyVny1l1",
    "outputId": "225e2bf7-ba14-4000-941e-ff707bb55b48"
   },
   "outputs": [
    {
     "data": {
      "text/plain": [
       "'I Love To Play Cricket'"
      ]
     },
     "execution_count": 53,
     "metadata": {},
     "output_type": "execute_result"
    }
   ],
   "source": [
    "my_str.title()"
   ]
  },
  {
   "cell_type": "code",
   "execution_count": 54,
   "metadata": {
    "colab": {
     "base_uri": "https://localhost:8080/",
     "height": 34
    },
    "colab_type": "code",
    "executionInfo": {
     "elapsed": 1128,
     "status": "ok",
     "timestamp": 1591114277811,
     "user": {
      "displayName": "Shriram Kashid",
      "photoUrl": "https://lh3.googleusercontent.com/a-/AOh14GgaLYAs6m7oAYlHCTcIjhRxSG5Q6WbViSUu1yCTMA=s64",
      "userId": "17123583759410972479"
     },
     "user_tz": -330
    },
    "id": "Sd4v3qPVy_E3",
    "outputId": "25ee6d7c-8155-45bf-b0b8-fea3a2a645e7"
   },
   "outputs": [
    {
     "data": {
      "text/plain": [
       "10"
      ]
     },
     "execution_count": 54,
     "metadata": {},
     "output_type": "execute_result"
    }
   ],
   "source": [
    "my_str.find('Play')"
   ]
  },
  {
   "cell_type": "code",
   "execution_count": 55,
   "metadata": {
    "colab": {
     "base_uri": "https://localhost:8080/",
     "height": 34
    },
    "colab_type": "code",
    "executionInfo": {
     "elapsed": 1115,
     "status": "ok",
     "timestamp": 1591114349262,
     "user": {
      "displayName": "Shriram Kashid",
      "photoUrl": "https://lh3.googleusercontent.com/a-/AOh14GgaLYAs6m7oAYlHCTcIjhRxSG5Q6WbViSUu1yCTMA=s64",
      "userId": "17123583759410972479"
     },
     "user_tz": -330
    },
    "id": "H17KCxpvzO1b",
    "outputId": "da2294c9-c872-4c37-91cc-8b4ad27ad4ae"
   },
   "outputs": [
    {
     "data": {
      "text/plain": [
       "True"
      ]
     },
     "execution_count": 55,
     "metadata": {},
     "output_type": "execute_result"
    }
   ],
   "source": [
    "my_str.endswith('Cricket')"
   ]
  },
  {
   "cell_type": "code",
   "execution_count": 56,
   "metadata": {
    "colab": {
     "base_uri": "https://localhost:8080/",
     "height": 34
    },
    "colab_type": "code",
    "executionInfo": {
     "elapsed": 1353,
     "status": "ok",
     "timestamp": 1591114363084,
     "user": {
      "displayName": "Shriram Kashid",
      "photoUrl": "https://lh3.googleusercontent.com/a-/AOh14GgaLYAs6m7oAYlHCTcIjhRxSG5Q6WbViSUu1yCTMA=s64",
      "userId": "17123583759410972479"
     },
     "user_tz": -330
    },
    "id": "Y0zHTSwczXFp",
    "outputId": "36c03252-c4d2-4e9b-d421-8d16126e4f62"
   },
   "outputs": [
    {
     "data": {
      "text/plain": [
       "False"
      ]
     },
     "execution_count": 56,
     "metadata": {},
     "output_type": "execute_result"
    }
   ],
   "source": [
    "my_str.endswith('india')"
   ]
  },
  {
   "cell_type": "code",
   "execution_count": 57,
   "metadata": {
    "colab": {
     "base_uri": "https://localhost:8080/",
     "height": 34
    },
    "colab_type": "code",
    "executionInfo": {
     "elapsed": 1318,
     "status": "ok",
     "timestamp": 1591114375683,
     "user": {
      "displayName": "Shriram Kashid",
      "photoUrl": "https://lh3.googleusercontent.com/a-/AOh14GgaLYAs6m7oAYlHCTcIjhRxSG5Q6WbViSUu1yCTMA=s64",
      "userId": "17123583759410972479"
     },
     "user_tz": -330
    },
    "id": "l4svLGyvzmsp",
    "outputId": "76117ddb-6de0-429d-bab1-2cc390b8c06d"
   },
   "outputs": [
    {
     "data": {
      "text/plain": [
       "True"
      ]
     },
     "execution_count": 57,
     "metadata": {},
     "output_type": "execute_result"
    }
   ],
   "source": [
    "my_str.startswith('i')"
   ]
  },
  {
   "cell_type": "code",
   "execution_count": 58,
   "metadata": {
    "colab": {
     "base_uri": "https://localhost:8080/",
     "height": 34
    },
    "colab_type": "code",
    "executionInfo": {
     "elapsed": 1207,
     "status": "ok",
     "timestamp": 1591114384773,
     "user": {
      "displayName": "Shriram Kashid",
      "photoUrl": "https://lh3.googleusercontent.com/a-/AOh14GgaLYAs6m7oAYlHCTcIjhRxSG5Q6WbViSUu1yCTMA=s64",
      "userId": "17123583759410972479"
     },
     "user_tz": -330
    },
    "id": "HjwMnLZhzpxP",
    "outputId": "ac6eb1a7-92ef-40cf-9d87-f1ad4895a43d"
   },
   "outputs": [
    {
     "data": {
      "text/plain": [
       "False"
      ]
     },
     "execution_count": 58,
     "metadata": {},
     "output_type": "execute_result"
    }
   ],
   "source": [
    "my_str.startswith('love')"
   ]
  },
  {
   "cell_type": "code",
   "execution_count": 59,
   "metadata": {
    "colab": {
     "base_uri": "https://localhost:8080/",
     "height": 34
    },
    "colab_type": "code",
    "executionInfo": {
     "elapsed": 1482,
     "status": "ok",
     "timestamp": 1591114392986,
     "user": {
      "displayName": "Shriram Kashid",
      "photoUrl": "https://lh3.googleusercontent.com/a-/AOh14GgaLYAs6m7oAYlHCTcIjhRxSG5Q6WbViSUu1yCTMA=s64",
      "userId": "17123583759410972479"
     },
     "user_tz": -330
    },
    "id": "EDQM4s0bzsA5",
    "outputId": "89331648-0cc3-4c78-dcaf-b0b9c9f9e5ee"
   },
   "outputs": [
    {
     "data": {
      "text/plain": [
       "True"
      ]
     },
     "execution_count": 59,
     "metadata": {},
     "output_type": "execute_result"
    }
   ],
   "source": [
    "a= \"India\"\n",
    "a.isalpha()"
   ]
  },
  {
   "cell_type": "code",
   "execution_count": 60,
   "metadata": {
    "colab": {
     "base_uri": "https://localhost:8080/",
     "height": 34
    },
    "colab_type": "code",
    "executionInfo": {
     "elapsed": 2528,
     "status": "ok",
     "timestamp": 1591114424727,
     "user": {
      "displayName": "Shriram Kashid",
      "photoUrl": "https://lh3.googleusercontent.com/a-/AOh14GgaLYAs6m7oAYlHCTcIjhRxSG5Q6WbViSUu1yCTMA=s64",
      "userId": "17123583759410972479"
     },
     "user_tz": -330
    },
    "id": "6VheXd-Dzt9m",
    "outputId": "cb5604ce-ba19-401c-8a57-7260f27488e8"
   },
   "outputs": [
    {
     "data": {
      "text/plain": [
       "False"
      ]
     },
     "execution_count": 60,
     "metadata": {},
     "output_type": "execute_result"
    }
   ],
   "source": [
    "a= \"India7\"\n",
    "a.isalpha()"
   ]
  },
  {
   "cell_type": "code",
   "execution_count": 61,
   "metadata": {
    "colab": {
     "base_uri": "https://localhost:8080/",
     "height": 34
    },
    "colab_type": "code",
    "executionInfo": {
     "elapsed": 2485,
     "status": "ok",
     "timestamp": 1591114461596,
     "user": {
      "displayName": "Shriram Kashid",
      "photoUrl": "https://lh3.googleusercontent.com/a-/AOh14GgaLYAs6m7oAYlHCTcIjhRxSG5Q6WbViSUu1yCTMA=s64",
      "userId": "17123583759410972479"
     },
     "user_tz": -330
    },
    "id": "zmpqvC09z1df",
    "outputId": "a9eb33a2-5e4e-4fb9-a7aa-1db281fb95db"
   },
   "outputs": [
    {
     "data": {
      "text/plain": [
       "True"
      ]
     },
     "execution_count": 61,
     "metadata": {},
     "output_type": "execute_result"
    }
   ],
   "source": [
    "a= \"123\"\n",
    "a.isdigit()"
   ]
  },
  {
   "cell_type": "code",
   "execution_count": 62,
   "metadata": {
    "colab": {
     "base_uri": "https://localhost:8080/",
     "height": 34
    },
    "colab_type": "code",
    "executionInfo": {
     "elapsed": 3139,
     "status": "ok",
     "timestamp": 1591114484716,
     "user": {
      "displayName": "Shriram Kashid",
      "photoUrl": "https://lh3.googleusercontent.com/a-/AOh14GgaLYAs6m7oAYlHCTcIjhRxSG5Q6WbViSUu1yCTMA=s64",
      "userId": "17123583759410972479"
     },
     "user_tz": -330
    },
    "id": "jPKxRZ6_z-eM",
    "outputId": "6311e30b-1891-46ea-92af-2461be6b059d"
   },
   "outputs": [
    {
     "data": {
      "text/plain": [
       "'india'"
      ]
     },
     "execution_count": 62,
     "metadata": {},
     "output_type": "execute_result"
    }
   ],
   "source": [
    "a=\"india\"\n",
    "a.lower()"
   ]
  },
  {
   "cell_type": "code",
   "execution_count": 63,
   "metadata": {
    "colab": {
     "base_uri": "https://localhost:8080/",
     "height": 34
    },
    "colab_type": "code",
    "executionInfo": {
     "elapsed": 3178,
     "status": "ok",
     "timestamp": 1591114506607,
     "user": {
      "displayName": "Shriram Kashid",
      "photoUrl": "https://lh3.googleusercontent.com/a-/AOh14GgaLYAs6m7oAYlHCTcIjhRxSG5Q6WbViSUu1yCTMA=s64",
      "userId": "17123583759410972479"
     },
     "user_tz": -330
    },
    "id": "PFn8njoz0DfM",
    "outputId": "f73a5f72-a7dc-4948-aa12-e1a74aceb754"
   },
   "outputs": [
    {
     "data": {
      "text/plain": [
       "True"
      ]
     },
     "execution_count": 63,
     "metadata": {},
     "output_type": "execute_result"
    }
   ],
   "source": [
    "a=\" \"\n",
    "a.isspace()"
   ]
  },
  {
   "cell_type": "code",
   "execution_count": 64,
   "metadata": {
    "colab": {
     "base_uri": "https://localhost:8080/",
     "height": 34
    },
    "colab_type": "code",
    "executionInfo": {
     "elapsed": 910,
     "status": "ok",
     "timestamp": 1591114542714,
     "user": {
      "displayName": "Shriram Kashid",
      "photoUrl": "https://lh3.googleusercontent.com/a-/AOh14GgaLYAs6m7oAYlHCTcIjhRxSG5Q6WbViSUu1yCTMA=s64",
      "userId": "17123583759410972479"
     },
     "user_tz": -330
    },
    "id": "0kpsFM350JLQ",
    "outputId": "894ea0e1-2f86-445b-ae71-83b78c010b60"
   },
   "outputs": [
    {
     "data": {
      "text/plain": [
       "True"
      ]
     },
     "execution_count": 64,
     "metadata": {},
     "output_type": "execute_result"
    }
   ],
   "source": [
    "a= 'I Love To Play Cricket'\n",
    "a.istitle()"
   ]
  },
  {
   "cell_type": "code",
   "execution_count": 65,
   "metadata": {
    "colab": {
     "base_uri": "https://localhost:8080/",
     "height": 34
    },
    "colab_type": "code",
    "executionInfo": {
     "elapsed": 1339,
     "status": "ok",
     "timestamp": 1591114568889,
     "user": {
      "displayName": "Shriram Kashid",
      "photoUrl": "https://lh3.googleusercontent.com/a-/AOh14GgaLYAs6m7oAYlHCTcIjhRxSG5Q6WbViSUu1yCTMA=s64",
      "userId": "17123583759410972479"
     },
     "user_tz": -330
    },
    "id": "VzSp_QsT0Sqa",
    "outputId": "a2ab2a5d-5049-4791-d4d2-1389289c1909"
   },
   "outputs": [
    {
     "data": {
      "text/plain": [
       "False"
      ]
     },
     "execution_count": 65,
     "metadata": {},
     "output_type": "execute_result"
    }
   ],
   "source": [
    "a= 'I love to Play Cricket'\n",
    "a.istitle()"
   ]
  },
  {
   "cell_type": "code",
   "execution_count": 66,
   "metadata": {
    "colab": {
     "base_uri": "https://localhost:8080/",
     "height": 34
    },
    "colab_type": "code",
    "executionInfo": {
     "elapsed": 1305,
     "status": "ok",
     "timestamp": 1591114609972,
     "user": {
      "displayName": "Shriram Kashid",
      "photoUrl": "https://lh3.googleusercontent.com/a-/AOh14GgaLYAs6m7oAYlHCTcIjhRxSG5Q6WbViSUu1yCTMA=s64",
      "userId": "17123583759410972479"
     },
     "user_tz": -330
    },
    "id": "7KZWKJZ10XQf",
    "outputId": "d8736c7d-2159-497a-e596-eddd91498445"
   },
   "outputs": [
    {
     "data": {
      "text/plain": [
       "'I love to Play tenis'"
      ]
     },
     "execution_count": 66,
     "metadata": {},
     "output_type": "execute_result"
    }
   ],
   "source": [
    "a.replace('Cricket', 'tenis')"
   ]
  },
  {
   "cell_type": "code",
   "execution_count": 0,
   "metadata": {
    "colab": {},
    "colab_type": "code",
    "id": "46BsGptE0cUA"
   },
   "outputs": [],
   "source": []
  }
 ],
 "metadata": {
  "colab": {
   "collapsed_sections": [],
   "name": "Day 2 Assignment Shriram.ipynb",
   "provenance": []
  },
  "kernelspec": {
   "display_name": "Python 3",
   "language": "python",
   "name": "python3"
  },
  "language_info": {
   "codemirror_mode": {
    "name": "ipython",
    "version": 3
   },
   "file_extension": ".py",
   "mimetype": "text/x-python",
   "name": "python",
   "nbconvert_exporter": "python",
   "pygments_lexer": "ipython3",
   "version": "3.7.6"
  }
 },
 "nbformat": 4,
 "nbformat_minor": 1
}
